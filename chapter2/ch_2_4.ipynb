{
 "cells": [
  {
   "cell_type": "code",
   "execution_count": 57,
   "metadata": {},
   "outputs": [],
   "source": [
    "import numpy as np\n",
    "import matplotlib.pyplot as plt\n",
    "from ipynb.fs.full.ch_2_3 import preprocess, create_co_matrix, most_similar"
   ]
  },
  {
   "cell_type": "code",
   "execution_count": 58,
   "metadata": {},
   "outputs": [],
   "source": [
    "def ppmi(C, eps=1e-8):\n",
    "    M = np.zeros_like(C, dtype=np.float32)\n",
    "    row_num, col_num = C.shape\n",
    "    N = np.sum(C)\n",
    "    S = np.sum(C, axis=0)\n",
    "    for i in range(row_num):\n",
    "        for j in range(col_num):\n",
    "            pmi = np.log2(C[i, j] * N / (S[i] * S[j]) + eps)\n",
    "            M[i, j] = max(0, pmi)\n",
    "    return M"
   ]
  },
  {
   "cell_type": "code",
   "execution_count": 59,
   "metadata": {},
   "outputs": [],
   "source": [
    "text = 'You say goodbye and I say hello.'\n",
    "corpus, word_to_id, id_to_word = preprocess(text)\n",
    "C = create_co_matrix(corpus, len(word_to_id))\n",
    "W = ppmi(C)\n",
    "U, S, V = np.linalg.svd(W)"
   ]
  },
  {
   "cell_type": "code",
   "execution_count": 60,
   "metadata": {},
   "outputs": [
    {
     "data": {
      "image/png": "[encoded data removed]",
      "text/plain": [
       "<Figure size 432x288 with 1 Axes>"
      ]
     },
     "metadata": {
      "needs_background": "light"
     },
     "output_type": "display_data"
    }
   ],
   "source": [
    "for word, word_id in word_to_id.items():\n",
    "    plt.annotate(word, (U[word_id, 0], U[word_id, 1]))\n",
    "plt.scatter(U[:, 0], U[:, 1], alpha=0.5)\n",
    "plt.show()"
   ]
  },
  {
   "cell_type": "code",
   "execution_count": 61,
   "metadata": {},
   "outputs": [
    {
     "name": "stderr",
     "output_type": "stream",
     "text": [
      "C:\\Users\\xuyax\\AppData\\Local\\Temp\\ipykernel_18228\\3187528609.py:8: RuntimeWarning: overflow encountered in long_scalars\n",
      "  pmi = np.log2(C[i, j] * N / (S[i] * S[j]) + eps)\n",
      "C:\\Users\\xuyax\\AppData\\Local\\Temp\\ipykernel_18228\\3187528609.py:8: RuntimeWarning: invalid value encountered in log2\n",
      "  pmi = np.log2(C[i, j] * N / (S[i] * S[j]) + eps)\n"
     ]
    }
   ],
   "source": [
    "from dataset import ptb\n",
    "from sklearn.utils.extmath import randomized_svd\n",
    "\n",
    "corpus, word_to_id, id_to_word = ptb.load_data('train')\n",
    "vocab_size = len(word_to_id)\n",
    "window_size = 2\n",
    "wordvec_size = 100\n",
    "C = create_co_matrix(corpus, vocab_size, window_size)\n",
    "W = ppmi(C)\n",
    "U, S, V = randomized_svd(W, n_components=wordvec_size, n_iter=5, random_state=None)\n",
    "word_vecs = U[:, :wordvec_size]"
   ]
  },
  {
   "cell_type": "code",
   "execution_count": 62,
   "metadata": {},
   "outputs": [
    {
     "name": "stdout",
     "output_type": "stream",
     "text": [
      "\n",
      "[query] you\n",
      "i: 0.6449882984161377\n",
      "we: 0.595940351486206\n",
      "anybody: 0.5480700731277466\n",
      "do: 0.5327110290527344\n",
      "'ve: 0.5240918397903442\n",
      "\n",
      "[query] year\n",
      "month: 0.6396413445472717\n",
      "last: 0.6309598088264465\n",
      "quarter: 0.6180704832077026\n",
      "earlier: 0.5887919664382935\n",
      "june: 0.5786089897155762\n",
      "\n",
      "[query] car\n",
      "luxury: 0.6667635440826416\n",
      "auto: 0.6209213137626648\n",
      "truck: 0.6078695058822632\n",
      "cars: 0.5655221939086914\n",
      "corsica: 0.5647716522216797\n",
      "\n",
      "[query] toyota\n",
      "motor: 0.6984732747077942\n",
      "motors: 0.6927098035812378\n",
      "honda: 0.6485469937324524\n",
      "lexus: 0.6453078985214233\n",
      "nissan: 0.6396191120147705\n"
     ]
    }
   ],
   "source": [
    "querys = ['you', 'year', 'car', 'toyota']\n",
    "for query in querys:\n",
    "    most_similar(query, word_to_id, id_to_word, word_vecs)"
   ]
  }
 ],
 "metadata": {
  "kernelspec": {
   "display_name": "just_for_test",
   "language": "python",
   "name": "python3"
  },
  "language_info": {
   "codemirror_mode": {
    "name": "ipython",
    "version": 3
   },
   "file_extension": ".py",
   "mimetype": "text/x-python",
   "name": "python",
   "nbconvert_exporter": "python",
   "pygments_lexer": "ipython3",
   "version": "3.9.12"
  },
  "orig_nbformat": 4
 },
 "nbformat": 4,
 "nbformat_minor": 2
}
